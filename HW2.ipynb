{
 "cells": [
  {
   "cell_type": "code",
   "execution_count": 1,
   "id": "06b0f715",
   "metadata": {},
   "outputs": [],
   "source": [
    "import numpy as np\n",
    "import pandas as pd\n",
    "import matplotlib.pyplot as plt"
   ]
  },
  {
   "cell_type": "markdown",
   "id": "40cb0362",
   "metadata": {},
   "source": [
    "### David Langus Rodriguez, Dean Ward, and Albert DiCroce worked as a group for this assignment."
   ]
  },
  {
   "cell_type": "markdown",
   "id": "62dd53aa",
   "metadata": {},
   "source": [
    "## Problem 1\n",
    "### 1."
   ]
  },
  {
   "cell_type": "markdown",
   "id": "e7932410",
   "metadata": {},
   "source": [
    "Overall yield is 8000 of 14000 parts or 57.14%"
   ]
  },
  {
   "cell_type": "markdown",
   "id": "35721d72",
   "metadata": {},
   "source": [
    "## Problem 2\n",
    "### 1."
   ]
  },
  {
   "cell_type": "markdown",
   "id": "86e8eb0e",
   "metadata": {},
   "source": [
    "Because the Verilog code executes in parallel, the value of x will be 1 (x = 1) and the value for y will be 2 (y = 2)"
   ]
  },
  {
   "cell_type": "markdown",
   "id": "258e66a8",
   "metadata": {},
   "source": [
    "### 2."
   ]
  },
  {
   "cell_type": "markdown",
   "id": "ca326c41",
   "metadata": {},
   "source": [
    "Because C language executes sequentially the value for x will not be initialized with the (a + b) value. The variable x will be equal to 1 (x = 1) since x will be at the initialized value "
   ]
  },
  {
   "cell_type": "markdown",
   "id": "f51245a0",
   "metadata": {},
   "source": [
    "### 3."
   ]
  },
  {
   "cell_type": "markdown",
   "id": "7a8eecfd",
   "metadata": {},
   "source": [
    "Since Verilog executes in parallel and C sequantially there is a difference."
   ]
  },
  {
   "cell_type": "markdown",
   "id": "1c6f17d2",
   "metadata": {},
   "source": [
    "## Problem 3\n",
    "### 1."
   ]
  },
  {
   "cell_type": "code",
   "execution_count": 2,
   "id": "b5a37272",
   "metadata": {},
   "outputs": [],
   "source": [
    "df = pd.read_csv('./fullFreqData/fpga1.csv', header=None)"
   ]
  },
  {
   "cell_type": "code",
   "execution_count": 3,
   "id": "7a70a6bd",
   "metadata": {},
   "outputs": [
    {
     "data": {
      "text/plain": [
       "(512, 100)"
      ]
     },
     "execution_count": 3,
     "metadata": {},
     "output_type": "execute_result"
    }
   ],
   "source": [
    "df.shape"
   ]
  },
  {
   "cell_type": "code",
   "execution_count": 4,
   "id": "7244b092",
   "metadata": {},
   "outputs": [],
   "source": [
    "df_t = df.T"
   ]
  },
  {
   "cell_type": "code",
   "execution_count": 5,
   "id": "761c818d",
   "metadata": {},
   "outputs": [
    {
     "data": {
      "text/html": [
       "<div>\n",
       "<style scoped>\n",
       "    .dataframe tbody tr th:only-of-type {\n",
       "        vertical-align: middle;\n",
       "    }\n",
       "\n",
       "    .dataframe tbody tr th {\n",
       "        vertical-align: top;\n",
       "    }\n",
       "\n",
       "    .dataframe thead th {\n",
       "        text-align: right;\n",
       "    }\n",
       "</style>\n",
       "<table border=\"1\" class=\"dataframe\">\n",
       "  <thead>\n",
       "    <tr style=\"text-align: right;\">\n",
       "      <th></th>\n",
       "      <th>0</th>\n",
       "      <th>1</th>\n",
       "      <th>2</th>\n",
       "      <th>3</th>\n",
       "      <th>4</th>\n",
       "      <th>5</th>\n",
       "      <th>6</th>\n",
       "      <th>7</th>\n",
       "      <th>8</th>\n",
       "      <th>9</th>\n",
       "      <th>...</th>\n",
       "      <th>502</th>\n",
       "      <th>503</th>\n",
       "      <th>504</th>\n",
       "      <th>505</th>\n",
       "      <th>506</th>\n",
       "      <th>507</th>\n",
       "      <th>508</th>\n",
       "      <th>509</th>\n",
       "      <th>510</th>\n",
       "      <th>511</th>\n",
       "    </tr>\n",
       "  </thead>\n",
       "  <tbody>\n",
       "    <tr>\n",
       "      <th>0</th>\n",
       "      <td>185.752</td>\n",
       "      <td>186.415</td>\n",
       "      <td>186.443</td>\n",
       "      <td>187.257</td>\n",
       "      <td>187.638</td>\n",
       "      <td>185.049</td>\n",
       "      <td>186.154</td>\n",
       "      <td>187.196</td>\n",
       "      <td>187.427</td>\n",
       "      <td>187.268</td>\n",
       "      <td>...</td>\n",
       "      <td>187.431</td>\n",
       "      <td>187.752</td>\n",
       "      <td>187.632</td>\n",
       "      <td>187.206</td>\n",
       "      <td>187.868</td>\n",
       "      <td>187.442</td>\n",
       "      <td>186.844</td>\n",
       "      <td>188.694</td>\n",
       "      <td>187.152</td>\n",
       "      <td>186.871</td>\n",
       "    </tr>\n",
       "    <tr>\n",
       "      <th>1</th>\n",
       "      <td>185.752</td>\n",
       "      <td>186.460</td>\n",
       "      <td>186.424</td>\n",
       "      <td>187.286</td>\n",
       "      <td>187.615</td>\n",
       "      <td>185.041</td>\n",
       "      <td>186.141</td>\n",
       "      <td>187.147</td>\n",
       "      <td>187.408</td>\n",
       "      <td>187.249</td>\n",
       "      <td>...</td>\n",
       "      <td>187.434</td>\n",
       "      <td>187.754</td>\n",
       "      <td>187.511</td>\n",
       "      <td>187.192</td>\n",
       "      <td>187.865</td>\n",
       "      <td>187.372</td>\n",
       "      <td>186.924</td>\n",
       "      <td>188.689</td>\n",
       "      <td>187.150</td>\n",
       "      <td>186.798</td>\n",
       "    </tr>\n",
       "    <tr>\n",
       "      <th>2</th>\n",
       "      <td>185.704</td>\n",
       "      <td>186.457</td>\n",
       "      <td>186.394</td>\n",
       "      <td>187.278</td>\n",
       "      <td>187.558</td>\n",
       "      <td>185.071</td>\n",
       "      <td>186.184</td>\n",
       "      <td>187.133</td>\n",
       "      <td>187.423</td>\n",
       "      <td>187.214</td>\n",
       "      <td>...</td>\n",
       "      <td>187.369</td>\n",
       "      <td>187.799</td>\n",
       "      <td>187.514</td>\n",
       "      <td>187.222</td>\n",
       "      <td>187.880</td>\n",
       "      <td>187.432</td>\n",
       "      <td>186.865</td>\n",
       "      <td>188.691</td>\n",
       "      <td>187.157</td>\n",
       "      <td>186.789</td>\n",
       "    </tr>\n",
       "    <tr>\n",
       "      <th>3</th>\n",
       "      <td>185.696</td>\n",
       "      <td>186.404</td>\n",
       "      <td>186.435</td>\n",
       "      <td>187.183</td>\n",
       "      <td>187.616</td>\n",
       "      <td>185.062</td>\n",
       "      <td>186.194</td>\n",
       "      <td>187.216</td>\n",
       "      <td>187.415</td>\n",
       "      <td>187.254</td>\n",
       "      <td>...</td>\n",
       "      <td>187.423</td>\n",
       "      <td>187.765</td>\n",
       "      <td>187.545</td>\n",
       "      <td>187.172</td>\n",
       "      <td>187.843</td>\n",
       "      <td>187.415</td>\n",
       "      <td>186.908</td>\n",
       "      <td>188.681</td>\n",
       "      <td>187.134</td>\n",
       "      <td>186.863</td>\n",
       "    </tr>\n",
       "    <tr>\n",
       "      <th>4</th>\n",
       "      <td>185.673</td>\n",
       "      <td>186.434</td>\n",
       "      <td>186.381</td>\n",
       "      <td>187.270</td>\n",
       "      <td>187.567</td>\n",
       "      <td>185.064</td>\n",
       "      <td>186.118</td>\n",
       "      <td>187.160</td>\n",
       "      <td>187.397</td>\n",
       "      <td>187.257</td>\n",
       "      <td>...</td>\n",
       "      <td>187.414</td>\n",
       "      <td>187.761</td>\n",
       "      <td>187.487</td>\n",
       "      <td>187.193</td>\n",
       "      <td>187.805</td>\n",
       "      <td>187.422</td>\n",
       "      <td>186.876</td>\n",
       "      <td>188.657</td>\n",
       "      <td>187.117</td>\n",
       "      <td>186.834</td>\n",
       "    </tr>\n",
       "    <tr>\n",
       "      <th>...</th>\n",
       "      <td>...</td>\n",
       "      <td>...</td>\n",
       "      <td>...</td>\n",
       "      <td>...</td>\n",
       "      <td>...</td>\n",
       "      <td>...</td>\n",
       "      <td>...</td>\n",
       "      <td>...</td>\n",
       "      <td>...</td>\n",
       "      <td>...</td>\n",
       "      <td>...</td>\n",
       "      <td>...</td>\n",
       "      <td>...</td>\n",
       "      <td>...</td>\n",
       "      <td>...</td>\n",
       "      <td>...</td>\n",
       "      <td>...</td>\n",
       "      <td>...</td>\n",
       "      <td>...</td>\n",
       "      <td>...</td>\n",
       "      <td>...</td>\n",
       "    </tr>\n",
       "    <tr>\n",
       "      <th>95</th>\n",
       "      <td>185.450</td>\n",
       "      <td>186.152</td>\n",
       "      <td>186.069</td>\n",
       "      <td>187.028</td>\n",
       "      <td>187.397</td>\n",
       "      <td>184.867</td>\n",
       "      <td>185.944</td>\n",
       "      <td>186.909</td>\n",
       "      <td>187.164</td>\n",
       "      <td>186.990</td>\n",
       "      <td>...</td>\n",
       "      <td>187.208</td>\n",
       "      <td>187.598</td>\n",
       "      <td>187.365</td>\n",
       "      <td>186.914</td>\n",
       "      <td>187.663</td>\n",
       "      <td>187.245</td>\n",
       "      <td>186.621</td>\n",
       "      <td>188.443</td>\n",
       "      <td>186.943</td>\n",
       "      <td>186.618</td>\n",
       "    </tr>\n",
       "    <tr>\n",
       "      <th>96</th>\n",
       "      <td>185.438</td>\n",
       "      <td>186.148</td>\n",
       "      <td>186.187</td>\n",
       "      <td>187.069</td>\n",
       "      <td>187.405</td>\n",
       "      <td>184.836</td>\n",
       "      <td>185.889</td>\n",
       "      <td>186.955</td>\n",
       "      <td>187.169</td>\n",
       "      <td>187.075</td>\n",
       "      <td>...</td>\n",
       "      <td>187.235</td>\n",
       "      <td>187.611</td>\n",
       "      <td>187.374</td>\n",
       "      <td>186.913</td>\n",
       "      <td>187.648</td>\n",
       "      <td>187.240</td>\n",
       "      <td>186.682</td>\n",
       "      <td>188.449</td>\n",
       "      <td>186.939</td>\n",
       "      <td>186.627</td>\n",
       "    </tr>\n",
       "    <tr>\n",
       "      <th>97</th>\n",
       "      <td>185.463</td>\n",
       "      <td>186.162</td>\n",
       "      <td>186.166</td>\n",
       "      <td>187.030</td>\n",
       "      <td>187.410</td>\n",
       "      <td>184.841</td>\n",
       "      <td>185.945</td>\n",
       "      <td>186.989</td>\n",
       "      <td>187.167</td>\n",
       "      <td>187.106</td>\n",
       "      <td>...</td>\n",
       "      <td>187.212</td>\n",
       "      <td>187.627</td>\n",
       "      <td>187.371</td>\n",
       "      <td>186.951</td>\n",
       "      <td>187.675</td>\n",
       "      <td>187.283</td>\n",
       "      <td>186.672</td>\n",
       "      <td>188.458</td>\n",
       "      <td>186.973</td>\n",
       "      <td>186.599</td>\n",
       "    </tr>\n",
       "    <tr>\n",
       "      <th>98</th>\n",
       "      <td>185.450</td>\n",
       "      <td>186.181</td>\n",
       "      <td>186.182</td>\n",
       "      <td>187.021</td>\n",
       "      <td>187.412</td>\n",
       "      <td>184.853</td>\n",
       "      <td>185.897</td>\n",
       "      <td>186.978</td>\n",
       "      <td>187.179</td>\n",
       "      <td>187.049</td>\n",
       "      <td>...</td>\n",
       "      <td>187.285</td>\n",
       "      <td>187.641</td>\n",
       "      <td>187.315</td>\n",
       "      <td>186.944</td>\n",
       "      <td>187.675</td>\n",
       "      <td>187.242</td>\n",
       "      <td>186.640</td>\n",
       "      <td>188.455</td>\n",
       "      <td>186.886</td>\n",
       "      <td>186.577</td>\n",
       "    </tr>\n",
       "    <tr>\n",
       "      <th>99</th>\n",
       "      <td>185.517</td>\n",
       "      <td>186.181</td>\n",
       "      <td>186.150</td>\n",
       "      <td>187.039</td>\n",
       "      <td>187.427</td>\n",
       "      <td>184.805</td>\n",
       "      <td>185.873</td>\n",
       "      <td>186.976</td>\n",
       "      <td>187.130</td>\n",
       "      <td>187.082</td>\n",
       "      <td>...</td>\n",
       "      <td>187.213</td>\n",
       "      <td>187.641</td>\n",
       "      <td>187.353</td>\n",
       "      <td>186.946</td>\n",
       "      <td>187.651</td>\n",
       "      <td>187.230</td>\n",
       "      <td>186.672</td>\n",
       "      <td>188.458</td>\n",
       "      <td>186.935</td>\n",
       "      <td>186.626</td>\n",
       "    </tr>\n",
       "  </tbody>\n",
       "</table>\n",
       "<p>100 rows × 512 columns</p>\n",
       "</div>"
      ],
      "text/plain": [
       "        0        1        2        3        4        5        6        7    \\\n",
       "0   185.752  186.415  186.443  187.257  187.638  185.049  186.154  187.196   \n",
       "1   185.752  186.460  186.424  187.286  187.615  185.041  186.141  187.147   \n",
       "2   185.704  186.457  186.394  187.278  187.558  185.071  186.184  187.133   \n",
       "3   185.696  186.404  186.435  187.183  187.616  185.062  186.194  187.216   \n",
       "4   185.673  186.434  186.381  187.270  187.567  185.064  186.118  187.160   \n",
       "..      ...      ...      ...      ...      ...      ...      ...      ...   \n",
       "95  185.450  186.152  186.069  187.028  187.397  184.867  185.944  186.909   \n",
       "96  185.438  186.148  186.187  187.069  187.405  184.836  185.889  186.955   \n",
       "97  185.463  186.162  186.166  187.030  187.410  184.841  185.945  186.989   \n",
       "98  185.450  186.181  186.182  187.021  187.412  184.853  185.897  186.978   \n",
       "99  185.517  186.181  186.150  187.039  187.427  184.805  185.873  186.976   \n",
       "\n",
       "        8        9    ...      502      503      504      505      506  \\\n",
       "0   187.427  187.268  ...  187.431  187.752  187.632  187.206  187.868   \n",
       "1   187.408  187.249  ...  187.434  187.754  187.511  187.192  187.865   \n",
       "2   187.423  187.214  ...  187.369  187.799  187.514  187.222  187.880   \n",
       "3   187.415  187.254  ...  187.423  187.765  187.545  187.172  187.843   \n",
       "4   187.397  187.257  ...  187.414  187.761  187.487  187.193  187.805   \n",
       "..      ...      ...  ...      ...      ...      ...      ...      ...   \n",
       "95  187.164  186.990  ...  187.208  187.598  187.365  186.914  187.663   \n",
       "96  187.169  187.075  ...  187.235  187.611  187.374  186.913  187.648   \n",
       "97  187.167  187.106  ...  187.212  187.627  187.371  186.951  187.675   \n",
       "98  187.179  187.049  ...  187.285  187.641  187.315  186.944  187.675   \n",
       "99  187.130  187.082  ...  187.213  187.641  187.353  186.946  187.651   \n",
       "\n",
       "        507      508      509      510      511  \n",
       "0   187.442  186.844  188.694  187.152  186.871  \n",
       "1   187.372  186.924  188.689  187.150  186.798  \n",
       "2   187.432  186.865  188.691  187.157  186.789  \n",
       "3   187.415  186.908  188.681  187.134  186.863  \n",
       "4   187.422  186.876  188.657  187.117  186.834  \n",
       "..      ...      ...      ...      ...      ...  \n",
       "95  187.245  186.621  188.443  186.943  186.618  \n",
       "96  187.240  186.682  188.449  186.939  186.627  \n",
       "97  187.283  186.672  188.458  186.973  186.599  \n",
       "98  187.242  186.640  188.455  186.886  186.577  \n",
       "99  187.230  186.672  188.458  186.935  186.626  \n",
       "\n",
       "[100 rows x 512 columns]"
      ]
     },
     "execution_count": 5,
     "metadata": {},
     "output_type": "execute_result"
    }
   ],
   "source": [
    "df_t"
   ]
  },
  {
   "cell_type": "markdown",
   "id": "a1a5af01",
   "metadata": {},
   "source": [
    "### 2."
   ]
  },
  {
   "cell_type": "code",
   "execution_count": 6,
   "id": "5a7485eb",
   "metadata": {},
   "outputs": [],
   "source": [
    "means = df_t.describe().T[\"mean\"]"
   ]
  },
  {
   "cell_type": "code",
   "execution_count": 7,
   "id": "351903a1",
   "metadata": {},
   "outputs": [],
   "source": [
    "means_np = np.array(means)"
   ]
  },
  {
   "cell_type": "code",
   "execution_count": 8,
   "id": "4b975245",
   "metadata": {},
   "outputs": [],
   "source": [
    "means_np_reshaped = np.flip(means_np.reshape(32, 16), axis=0)"
   ]
  },
  {
   "cell_type": "code",
   "execution_count": 9,
   "id": "17e5bb14",
   "metadata": {},
   "outputs": [
    {
     "data": {
      "text/plain": [
       "(32, 16)"
      ]
     },
     "execution_count": 9,
     "metadata": {},
     "output_type": "execute_result"
    }
   ],
   "source": [
    "means_np_reshaped.shape"
   ]
  },
  {
   "cell_type": "markdown",
   "id": "96cd427e",
   "metadata": {},
   "source": [
    "### 3."
   ]
  },
  {
   "cell_type": "code",
   "execution_count": 10,
   "id": "c728ef7b",
   "metadata": {},
   "outputs": [
    {
     "data": {
      "image/png": "[encoded data removed]",
      "text/plain": [
       "<Figure size 640x480 with 1 Axes>"
      ]
     },
     "metadata": {},
     "output_type": "display_data"
    }
   ],
   "source": [
    "a = np.random.random((32, 16))\n",
    "plt.imshow(means_np_reshaped, cmap='hot', interpolation='nearest')\n",
    "plt.show()"
   ]
  },
  {
   "cell_type": "markdown",
   "id": "8a787870",
   "metadata": {},
   "source": [
    "### 4.\n",
    "The heatmap below show a visual representation of the FPGA die and of which PUF freqencies are higher/low. The top center of the FPGA had the higher measured PUF clock frequencies. This is probably due to the less interconnect delays in that area of the chip and allow the RO to achieve a higher frequency "
   ]
  },
  {
   "cell_type": "markdown",
   "id": "9448b595",
   "metadata": {},
   "source": [
    "## Problem 4\n",
    "### 1 & 2."
   ]
  },
  {
   "cell_type": "code",
   "execution_count": 11,
   "id": "b354e712",
   "metadata": {
    "scrolled": false
   },
   "outputs": [],
   "source": [
    "array_of_pufs = []\n",
    "for i in range(193):\n",
    "    puf = np.zeros(256)\n",
    "    df = pd.read_csv(f'./fullFreqData/fpga{i+1}.csv', header=None)\n",
    "    df_t = df.T\n",
    "    means = df_t.describe().T[\"mean\"]\n",
    "    means_np = np.array(means)\n",
    "    means_np_reshaped = means_np.reshape(256, 2)\n",
    "    for j in range(256):\n",
    "        if means_np_reshaped[j, 0] >= means_np_reshaped[j, 1]:\n",
    "            puf[j] = True\n",
    "            # puf[j] = 1\n",
    "        else:\n",
    "            # puf[j] = 0\n",
    "            puf[j] = False\n",
    "        \n",
    "    array_of_pufs.append(puf)\n",
    "    #print(np.array(array_of_pufs)[i])"
   ]
  },
  {
   "cell_type": "code",
   "execution_count": 12,
   "id": "ccd3d98a",
   "metadata": {},
   "outputs": [],
   "source": [
    "# Function to convert string of bit to a ByteArray\n",
    "def bitstring_to_bytes(s):\n",
    "    v = int(s, 2)\n",
    "    b = bytearray()\n",
    "    while v:\n",
    "        b.append(v & 0xff)\n",
    "        v >>= 8\n",
    "    return bytes(b[::-1])"
   ]
  },
  {
   "cell_type": "code",
   "execution_count": 13,
   "id": "f24a4d38",
   "metadata": {},
   "outputs": [
    {
     "name": "stdout",
     "output_type": "stream",
     "text": [
      "2db7bf6cc7461f85c35a0b794dd179d587ffffe97e0f37d01b0bdbaf155939ad\n"
     ]
    }
   ],
   "source": [
    "fpga_puf_1 = array_of_pufs[0].astype(int)\n",
    "bit_string = np.array2string(fpga_puf_1).replace('\\n', '').replace('[', '').replace(']', '').replace(' ', '')\n",
    "\n",
    "print(bitstring_to_bytes(bit_string).hex())"
   ]
  },
  {
   "cell_type": "markdown",
   "id": "fc84ebbc",
   "metadata": {},
   "source": [
    "### 3."
   ]
  },
  {
   "cell_type": "code",
   "execution_count": 14,
   "id": "cf5d5a83",
   "metadata": {},
   "outputs": [],
   "source": [
    "# Calculate Hamming distances for all FPGAs pairs\n",
    "unique_array_of_pufs = []\n",
    "hamming = []\n",
    "num_loops = 192 # Will stil loop through all 193 cause k=i+1\n",
    "for i in range(num_loops):\n",
    "    uniq_puf = np.zeros(256)\n",
    "    puf1 = array_of_pufs[i].astype(bool) \n",
    "    k = i+1 \n",
    "    while k <= num_loops:\n",
    "        puf2 = array_of_pufs[k].astype(bool) \n",
    "        for j in range(256):\n",
    "            uniq_puf[j] = puf1[j] ^ puf2[j]\n",
    "            # print(puf1)\n",
    "            # print(puf2)\n",
    "        # print(uniq_puf)\n",
    "        hamming = np.sum(uniq_puf, 0)\n",
    "        # print(hamming)\n",
    "        k+=1\n",
    "        unique_array_of_pufs.append(hamming)"
   ]
  },
  {
   "cell_type": "code",
   "execution_count": 15,
   "id": "5cccb791",
   "metadata": {},
   "outputs": [
    {
     "data": {
      "text/plain": [
       "18528"
      ]
     },
     "execution_count": 15,
     "metadata": {},
     "output_type": "execute_result"
    }
   ],
   "source": [
    "len(unique_array_of_pufs) # Total number of Hamming distances 192*193/2"
   ]
  },
  {
   "cell_type": "code",
   "execution_count": 16,
   "id": "025244d8",
   "metadata": {},
   "outputs": [],
   "source": [
    "hamming_d = np.array(unique_array_of_pufs)"
   ]
  },
  {
   "cell_type": "code",
   "execution_count": 17,
   "id": "16b0ed20",
   "metadata": {},
   "outputs": [
    {
     "data": {
      "text/plain": [
       "118.73024611398964"
      ]
     },
     "execution_count": 17,
     "metadata": {},
     "output_type": "execute_result"
    }
   ],
   "source": [
    "hamming_mean = np.mean(hamming_d) # Mean\n",
    "hamming_mean"
   ]
  },
  {
   "cell_type": "code",
   "execution_count": 18,
   "id": "586bcddc",
   "metadata": {
    "scrolled": true
   },
   "outputs": [
    {
     "data": {
      "text/plain": [
       "119.0"
      ]
     },
     "execution_count": 18,
     "metadata": {},
     "output_type": "execute_result"
    }
   ],
   "source": [
    "np.median(hamming_d) # Median"
   ]
  },
  {
   "cell_type": "code",
   "execution_count": 19,
   "id": "6ff3933b",
   "metadata": {},
   "outputs": [
    {
     "data": {
      "text/plain": [
       "8.090671702168963"
      ]
     },
     "execution_count": 19,
     "metadata": {},
     "output_type": "execute_result"
    }
   ],
   "source": [
    "np.std(hamming_d) # Standard Div."
   ]
  },
  {
   "cell_type": "markdown",
   "id": "317d9ad5",
   "metadata": {},
   "source": [
    "### 4."
   ]
  },
  {
   "cell_type": "code",
   "execution_count": 20,
   "id": "bee28ad5",
   "metadata": {},
   "outputs": [
    {
     "data": {
      "text/plain": [
       "46.3790023882772"
      ]
     },
     "execution_count": 20,
     "metadata": {},
     "output_type": "execute_result"
    }
   ],
   "source": [
    "(hamming_mean / 256 * 100) # Uniqueness "
   ]
  },
  {
   "cell_type": "markdown",
   "id": "0efa6f1c",
   "metadata": {},
   "source": [
    "- 50% is the ideal uniqueness, our PUFs exibit good uniqueness values with respect to the ideal (46.37%)"
   ]
  },
  {
   "cell_type": "code",
   "execution_count": 21,
   "id": "75c7789c",
   "metadata": {},
   "outputs": [
    {
     "name": "stdout",
     "output_type": "stream",
     "text": [
      "118.73024611398964\n",
      "119.0\n",
      "8.090671702168963\n",
      "46.3790023882772\n"
     ]
    }
   ],
   "source": [
    "# hamming_dist = np.sum(unique_array_of_pufs, 1)\n",
    "hamming_mean = (np.sum(unique_array_of_pufs, None)/np.size(unique_array_of_pufs))\n",
    "print(hamming_mean)\n",
    "print(np.median(unique_array_of_pufs, None))\n",
    "print(np.std(unique_array_of_pufs, None))\n",
    "# Number 4.4\n",
    "print((hamming_mean/256) *100)"
   ]
  },
  {
   "cell_type": "markdown",
   "id": "07264283",
   "metadata": {},
   "source": [
    "## Problem 5\n",
    "### 1 & 2."
   ]
  },
  {
   "cell_type": "code",
   "execution_count": 22,
   "id": "e0b94d06",
   "metadata": {},
   "outputs": [
    {
     "name": "stdout",
     "output_type": "stream",
     "text": [
      "(256,)\n"
     ]
    }
   ],
   "source": [
    "array_of_pufs = []\n",
    "\n",
    "puf = np.zeros(256)\n",
    "df = pd.read_csv(f'./fullFreqData/fpga1.csv', header=None)\n",
    "df_t = df.T\n",
    "#means = df_t.describe().T[\"mean\"]\n",
    "data = np.array(df_t)\n",
    "data_re = data.reshape(100, 256, 2)\n",
    "#print(data_re)\n",
    "for i in range(100):\n",
    "    for j in range(256):\n",
    "        if data_re[i, j, 0] >= data_re[i, j, 1]:\n",
    "            puf[j] = True\n",
    "            # puf[j] = 1\n",
    "        else:\n",
    "            # puf[j] = 0\n",
    "            puf[j] = False\n",
    "\n",
    "    array_of_pufs.append(puf)\n",
    "print(np.array(array_of_pufs)[i].shape)"
   ]
  },
  {
   "cell_type": "markdown",
   "id": "2c299edb",
   "metadata": {},
   "source": [
    "### 3."
   ]
  },
  {
   "cell_type": "code",
   "execution_count": 23,
   "id": "56498c34",
   "metadata": {},
   "outputs": [],
   "source": [
    "# Calculate Hamming distances for all FPGAs pairs\n",
    "unique_array_of_pufs = []\n",
    "hamming = []\n",
    "num_loops = 99 # Will stil loop through all 100 cause k=i+1\n",
    "for i in range(num_loops):\n",
    "    uniq_puf = np.zeros(256)\n",
    "    puf1 = array_of_pufs[i].astype(bool) \n",
    "    k = i+1 \n",
    "    while k <= num_loops:\n",
    "        puf2 = array_of_pufs[k].astype(bool) \n",
    "        for j in range(256):\n",
    "            uniq_puf[j] = puf1[j] ^ puf2[j]\n",
    "            # print(puf1)\n",
    "            # print(puf2)\n",
    "        # print(uniq_puf)\n",
    "        hamming = np.sum(uniq_puf, 0)\n",
    "        # print(hamming)\n",
    "        k+=1\n",
    "        unique_array_of_pufs.append(hamming)"
   ]
  },
  {
   "cell_type": "code",
   "execution_count": 24,
   "id": "71650f47",
   "metadata": {
    "scrolled": true
   },
   "outputs": [
    {
     "data": {
      "text/plain": [
       "4950"
      ]
     },
     "execution_count": 24,
     "metadata": {},
     "output_type": "execute_result"
    }
   ],
   "source": [
    "len(unique_array_of_pufs) # Total number of Hamming distances 99*100/2"
   ]
  },
  {
   "cell_type": "code",
   "execution_count": 25,
   "id": "2791d18e",
   "metadata": {},
   "outputs": [],
   "source": [
    "hamming_d = np.array(unique_array_of_pufs)"
   ]
  },
  {
   "cell_type": "code",
   "execution_count": 26,
   "id": "7b668f7f",
   "metadata": {},
   "outputs": [
    {
     "data": {
      "text/plain": [
       "0.0"
      ]
     },
     "execution_count": 26,
     "metadata": {},
     "output_type": "execute_result"
    }
   ],
   "source": [
    "hamming_mean = np.mean(hamming_d) # Mean\n",
    "hamming_mean"
   ]
  },
  {
   "cell_type": "code",
   "execution_count": 27,
   "id": "5c3d4e9b",
   "metadata": {
    "scrolled": true
   },
   "outputs": [
    {
     "data": {
      "text/plain": [
       "0.0"
      ]
     },
     "execution_count": 27,
     "metadata": {},
     "output_type": "execute_result"
    }
   ],
   "source": [
    "np.median(hamming_d) # Median"
   ]
  },
  {
   "cell_type": "code",
   "execution_count": 28,
   "id": "cd4bf805",
   "metadata": {},
   "outputs": [
    {
     "data": {
      "text/plain": [
       "0.0"
      ]
     },
     "execution_count": 28,
     "metadata": {},
     "output_type": "execute_result"
    }
   ],
   "source": [
    "np.std(hamming_d) # Standard Div."
   ]
  },
  {
   "cell_type": "markdown",
   "id": "2760bef7",
   "metadata": {},
   "source": [
    "### 4."
   ]
  },
  {
   "cell_type": "code",
   "execution_count": 29,
   "id": "068e65e1",
   "metadata": {},
   "outputs": [
    {
     "data": {
      "text/plain": [
       "0.0"
      ]
     },
     "execution_count": 29,
     "metadata": {},
     "output_type": "execute_result"
    }
   ],
   "source": [
    "(hamming_mean / 256 * 100) # Reliableness"
   ]
  },
  {
   "cell_type": "markdown",
   "id": "b2a7ab91",
   "metadata": {},
   "source": [
    "- 0% is the ideal reliableness, our PUFs exibit good reliability values with respect to the ideal (0%)"
   ]
  },
  {
   "cell_type": "markdown",
   "id": "6b045d27",
   "metadata": {},
   "source": [
    "## Problem 6\n",
    "### 1 & 2."
   ]
  },
  {
   "cell_type": "code",
   "execution_count": 30,
   "id": "04840046",
   "metadata": {
    "scrolled": false
   },
   "outputs": [
    {
     "name": "stdout",
     "output_type": "stream",
     "text": [
      "[0. 0. 1. 0. 1. 1. 0. 1. 1. 0. 1. 1. 0. 1. 1. 1. 1. 0. 1. 1. 1. 1. 1. 1.\n",
      " 0. 1. 1. 0. 1. 1. 0. 0. 1. 1. 0. 0. 0. 1. 1. 1. 0. 1. 0. 0. 0. 1. 1. 0.\n",
      " 0. 0. 0. 1. 1. 1. 1. 1. 1. 0. 0. 0. 0. 1. 0. 1. 1. 1. 0. 0. 0. 0. 1. 1.\n",
      " 0. 1. 0. 1. 1. 0. 1. 0. 0. 0. 0. 0. 1. 0. 1. 1. 0. 1. 1. 1. 1. 0. 0. 1.\n",
      " 0. 1. 0. 0. 1. 1. 0. 1. 1. 1. 0. 1. 0. 0. 0. 1. 0. 1. 1. 1. 1. 0. 0. 1.\n",
      " 1. 1. 0. 1. 0. 1. 0. 1. 1. 0. 0. 0. 0. 1. 1. 1. 1. 1. 1. 1. 1. 1. 1. 1.\n",
      " 1. 1. 1. 1. 1. 1. 1. 1. 1. 1. 1. 0. 1. 0. 0. 1. 0. 1. 1. 1. 1. 1. 1. 0.\n",
      " 0. 0. 0. 0. 1. 1. 1. 1. 0. 0. 1. 1. 0. 1. 1. 1. 1. 1. 0. 1. 0. 0. 0. 0.\n",
      " 0. 0. 0. 1. 1. 0. 1. 1. 0. 0. 0. 0. 1. 0. 1. 1. 1. 1. 0. 1. 1. 0. 1. 1.\n",
      " 1. 0. 1. 0. 1. 1. 1. 1. 0. 0. 0. 1. 0. 1. 0. 1. 0. 1. 0. 1. 1. 0. 0. 1.\n",
      " 0. 0. 1. 1. 1. 0. 0. 1. 1. 0. 1. 0. 1. 1. 0. 1.]\n"
     ]
    }
   ],
   "source": [
    "array_of_pufs = []\n",
    "for i in range(193):\n",
    "    puf = np.zeros(256)\n",
    "    df = pd.read_csv(f'./fullFreqData/fpga{i+1}.csv', header=None)\n",
    "    df_t = df.T\n",
    "    means = df_t.describe().T[\"mean\"]\n",
    "    means_np = np.array(means)\n",
    "    means_np_reshaped = means_np.reshape(256, 2)\n",
    "    for j in range(256):\n",
    "        if means_np_reshaped[j, 0] >= means_np_reshaped[j, 1]:\n",
    "            puf[j] = True\n",
    "            # puf[j] = 1\n",
    "        else:\n",
    "            # puf[j] = 0\n",
    "            puf[j] = False\n",
    "        \n",
    "    array_of_pufs.append(puf)\n",
    "print(np.array(array_of_pufs)[0])"
   ]
  },
  {
   "cell_type": "markdown",
   "id": "7f8a4838",
   "metadata": {},
   "source": [
    "### 3."
   ]
  },
  {
   "cell_type": "code",
   "execution_count": 31,
   "id": "9fe9ee65",
   "metadata": {},
   "outputs": [],
   "source": [
    "uniformity_per_puf = []\n",
    "for puf in np.array(array_of_pufs):\n",
    "    unique, counts = np.unique(puf, return_counts=True)\n",
    "    uniformity_per_puf.append(counts[0] / 256 * 100)"
   ]
  },
  {
   "cell_type": "code",
   "execution_count": 32,
   "id": "538c3ce3",
   "metadata": {},
   "outputs": [
    {
     "data": {
      "text/plain": [
       "array([41.796875, 50.      , 49.609375, 50.78125 , 55.859375, 48.828125,\n",
       "       38.671875, 51.5625  , 51.953125, 43.359375, 45.3125  , 47.65625 ,\n",
       "       49.609375, 46.875   , 45.703125, 41.796875, 47.65625 , 48.4375  ,\n",
       "       45.3125  , 51.171875, 48.4375  , 47.65625 , 48.828125, 50.      ,\n",
       "       47.65625 , 41.796875, 50.78125 , 42.96875 , 53.90625 , 50.78125 ,\n",
       "       47.65625 , 47.65625 , 51.953125, 51.953125, 47.265625, 50.      ,\n",
       "       46.09375 , 45.3125  , 53.515625, 51.171875, 40.234375, 51.5625  ,\n",
       "       50.390625, 44.921875, 53.125   , 48.828125, 45.3125  , 53.515625,\n",
       "       42.96875 , 54.296875, 46.484375, 41.015625, 48.046875, 49.21875 ,\n",
       "       54.296875, 50.390625, 53.125   , 46.875   , 42.578125, 43.75    ,\n",
       "       55.078125, 50.      , 46.484375, 50.78125 , 46.875   , 51.171875,\n",
       "       50.390625, 50.      , 47.65625 , 46.09375 , 49.21875 , 47.65625 ,\n",
       "       50.      , 51.5625  , 46.09375 , 48.046875, 51.5625  , 46.484375,\n",
       "       45.3125  , 44.921875, 47.265625, 50.      , 45.3125  , 47.265625,\n",
       "       50.390625, 48.046875, 46.09375 , 50.390625, 48.046875, 46.09375 ,\n",
       "       43.75    , 42.96875 , 49.609375, 40.625   , 41.796875, 51.953125,\n",
       "       52.34375 , 44.921875, 48.046875, 54.296875, 44.921875, 48.046875,\n",
       "       49.609375, 50.      , 49.21875 , 44.53125 , 47.65625 , 50.      ,\n",
       "       43.359375, 46.875   , 55.078125, 50.78125 , 51.171875, 48.828125,\n",
       "       53.125   , 42.1875  , 56.25    , 46.484375, 46.09375 , 41.015625,\n",
       "       44.921875, 50.78125 , 43.75    , 49.21875 , 41.796875, 36.71875 ,\n",
       "       44.53125 , 55.46875 , 49.609375, 53.515625, 49.21875 , 42.96875 ,\n",
       "       50.390625, 46.484375, 49.21875 , 44.53125 , 48.4375  , 46.484375,\n",
       "       40.625   , 47.65625 , 48.828125, 51.5625  , 42.578125, 47.65625 ,\n",
       "       46.875   , 45.703125, 44.140625, 49.21875 , 43.359375, 53.90625 ,\n",
       "       51.953125, 45.703125, 44.921875, 44.140625, 48.4375  , 51.171875,\n",
       "       46.875   , 42.1875  , 44.921875, 46.484375, 53.125   , 51.5625  ,\n",
       "       51.5625  , 45.703125, 49.21875 , 45.3125  , 50.390625, 46.09375 ,\n",
       "       41.796875, 42.1875  , 39.453125, 45.703125, 45.703125, 46.875   ,\n",
       "       52.34375 , 48.828125, 49.609375, 48.828125, 46.09375 , 48.046875,\n",
       "       51.953125, 42.96875 , 55.859375, 45.3125  , 42.96875 , 48.828125,\n",
       "       42.96875 , 45.3125  , 57.8125  , 45.3125  , 48.046875, 40.234375,\n",
       "       51.5625  ])"
      ]
     },
     "execution_count": 32,
     "metadata": {},
     "output_type": "execute_result"
    }
   ],
   "source": [
    "np.array(uniformity_per_puf) # Uniformity per PUF with respect to the zero (0) bits vs. total bits"
   ]
  },
  {
   "cell_type": "code",
   "execution_count": 33,
   "id": "ec8e5249",
   "metadata": {},
   "outputs": [
    {
     "data": {
      "text/plain": [
       "47.785783678756474"
      ]
     },
     "execution_count": 33,
     "metadata": {},
     "output_type": "execute_result"
    }
   ],
   "source": [
    "np.mean(np.array(uniformity_per_puf)) # Uniformity mean %"
   ]
  },
  {
   "cell_type": "code",
   "execution_count": 34,
   "id": "f22442d8",
   "metadata": {},
   "outputs": [
    {
     "data": {
      "text/plain": [
       "47.65625"
      ]
     },
     "execution_count": 34,
     "metadata": {},
     "output_type": "execute_result"
    }
   ],
   "source": [
    "np.median(np.array(uniformity_per_puf)) # Uniformity median %"
   ]
  },
  {
   "cell_type": "code",
   "execution_count": 35,
   "id": "699ab17f",
   "metadata": {},
   "outputs": [
    {
     "data": {
      "text/plain": [
       "3.8453372087750086"
      ]
     },
     "execution_count": 35,
     "metadata": {},
     "output_type": "execute_result"
    }
   ],
   "source": [
    "np.std(np.array(uniformity_per_puf)) # Uniformity Standard Div. %"
   ]
  },
  {
   "cell_type": "markdown",
   "id": "7fae35bd",
   "metadata": {},
   "source": [
    "### 4."
   ]
  },
  {
   "cell_type": "markdown",
   "id": "263c7eae",
   "metadata": {},
   "source": [
    "- 50% is the ideal uniformity, our PUFs exibit good uniformity values with respect to the ideal (47.79%)"
   ]
  },
  {
   "cell_type": "markdown",
   "id": "495277c5",
   "metadata": {},
   "source": [
    "### 5."
   ]
  },
  {
   "cell_type": "code",
   "execution_count": 36,
   "id": "8d4b01d7",
   "metadata": {
    "scrolled": false
   },
   "outputs": [
    {
     "name": "stdout",
     "output_type": "stream",
     "text": [
      "[0. 1. 0. 0. 0. 0. 0. 0. 0. 0. 1. 0. 0. 0. 1. 0. 0. 0. 0. 1. 0. 1. 1. 1.\n",
      " 0. 0. 0. 1. 0. 0. 0. 1. 0. 0. 0. 1. 0. 0. 0. 1. 0. 0. 1. 0. 1. 1. 1. 1.\n",
      " 0. 1. 1. 0. 0. 1. 0. 1. 1. 0. 0. 1. 0. 0. 1. 1. 0. 0. 1. 1. 0. 0. 0. 1.\n",
      " 0. 0. 1. 1. 0. 0. 1. 1. 0. 1. 0. 1. 0. 1. 0. 0. 1. 0. 0. 0. 1. 1. 1. 1.\n",
      " 0. 1. 0. 0. 0. 0. 0. 1. 0. 1. 1. 0. 0. 1. 1. 1. 1. 1. 0. 0. 0. 0. 1. 1.\n",
      " 0. 0. 0. 1. 0. 0. 1. 1. 0. 1. 1. 1. 0. 1. 1. 1. 0. 0. 0. 1. 0. 1. 0. 1.\n",
      " 0. 1. 1. 0. 0. 1. 0. 0. 1. 1. 0. 0. 0. 0. 1. 1. 1. 0. 1. 1. 0. 1. 1. 0.\n",
      " 0. 0. 0. 1. 0. 0. 1. 1. 0. 1. 1. 1. 0. 0. 0. 1. 1. 0. 0. 0. 0. 1. 1. 1.\n",
      " 0. 1. 1. 1. 0. 1. 1. 1. 0. 1. 0. 1. 0. 1. 1. 1. 1. 0. 1. 1. 0. 0. 0. 1.\n",
      " 0. 0. 0. 0. 0. 1. 0. 1. 0. 1. 1. 0. 1. 1. 0. 0. 0. 1. 0. 1. 0. 0. 1. 1.\n",
      " 1. 0. 1. 0. 0. 0. 1. 1. 0. 1. 0. 0. 0. 0. 1. 0.]\n"
     ]
    }
   ],
   "source": [
    "array_of_pufs = []\n",
    "for i in range(193):\n",
    "    puf = np.zeros(256)\n",
    "    df = pd.read_csv(f'./fullFreqData/fpga{i+1}.csv', header=None)\n",
    "    df_t = df.T\n",
    "    means = df_t.describe().T[\"mean\"]\n",
    "    means_np = np.array(means)\n",
    "    means_re = means_np.reshape(32, 16).T.flatten()\n",
    "    means_np_reshaped = means_re.reshape(256, 2)\n",
    "    for j in range(256):\n",
    "        if means_np_reshaped[j, 0] >= means_np_reshaped[j, 1]:\n",
    "            puf[j] = True\n",
    "            # puf[j] = 1\n",
    "        else:\n",
    "            # puf[j] = 0\n",
    "            puf[j] = False\n",
    "        \n",
    "    array_of_pufs.append(puf)\n",
    "print(np.array(array_of_pufs)[0])"
   ]
  },
  {
   "cell_type": "code",
   "execution_count": 37,
   "id": "00cfd06b",
   "metadata": {},
   "outputs": [],
   "source": [
    "uniformity_per_puf = []\n",
    "for puf in np.array(array_of_pufs):\n",
    "    unique, counts = np.unique(puf, return_counts=True)\n",
    "    uniformity_per_puf.append(counts[0] / 256 * 100)"
   ]
  },
  {
   "cell_type": "code",
   "execution_count": 38,
   "id": "cf8f93f1",
   "metadata": {},
   "outputs": [
    {
     "data": {
      "text/plain": [
       "array([54.6875  , 52.34375 , 53.125   , 54.296875, 52.734375, 58.984375,\n",
       "       55.46875 , 57.03125 , 53.125   , 52.34375 , 49.21875 , 50.390625,\n",
       "       53.125   , 48.4375  , 56.640625, 54.6875  , 53.90625 , 50.78125 ,\n",
       "       55.078125, 54.296875, 50.      , 54.296875, 57.8125  , 50.390625,\n",
       "       56.25    , 48.046875, 52.34375 , 55.46875 , 55.46875 , 53.125   ,\n",
       "       53.90625 , 54.296875, 56.640625, 45.703125, 58.984375, 55.078125,\n",
       "       60.15625 , 60.546875, 55.46875 , 61.71875 , 53.90625 , 54.6875  ,\n",
       "       55.859375, 48.046875, 55.46875 , 49.609375, 53.90625 , 58.203125,\n",
       "       50.390625, 49.21875 , 52.734375, 55.078125, 45.703125, 54.296875,\n",
       "       46.484375, 53.90625 , 57.03125 , 56.640625, 47.65625 , 53.515625,\n",
       "       55.078125, 52.734375, 58.203125, 55.078125, 59.375   , 53.515625,\n",
       "       57.8125  , 54.6875  , 49.609375, 55.078125, 57.03125 , 54.6875  ,\n",
       "       52.34375 , 56.640625, 57.8125  , 55.859375, 59.765625, 56.25    ,\n",
       "       53.125   , 51.953125, 51.5625  , 57.8125  , 53.515625, 46.09375 ,\n",
       "       52.734375, 52.34375 , 55.46875 , 49.21875 , 59.375   , 50.390625,\n",
       "       54.296875, 52.34375 , 55.859375, 59.375   , 53.90625 , 53.90625 ,\n",
       "       55.078125, 52.734375, 53.125   , 55.859375, 55.078125, 55.46875 ,\n",
       "       50.78125 , 55.859375, 57.03125 , 53.90625 , 57.03125 , 53.125   ,\n",
       "       55.859375, 48.046875, 55.859375, 50.      , 47.65625 , 53.515625,\n",
       "       54.296875, 54.296875, 50.78125 , 55.078125, 52.34375 , 52.34375 ,\n",
       "       51.5625  , 52.34375 , 50.390625, 53.515625, 55.46875 , 52.734375,\n",
       "       55.859375, 51.5625  , 53.125   , 48.4375  , 52.34375 , 53.515625,\n",
       "       58.984375, 53.125   , 58.984375, 53.125   , 53.515625, 53.90625 ,\n",
       "       53.125   , 53.90625 , 52.34375 , 51.5625  , 48.4375  , 58.203125,\n",
       "       62.109375, 56.25    , 57.8125  , 51.5625  , 57.8125  , 52.734375,\n",
       "       55.46875 , 52.34375 , 56.640625, 53.125   , 44.53125 , 50.390625,\n",
       "       54.296875, 52.734375, 51.953125, 56.25    , 53.125   , 50.78125 ,\n",
       "       50.390625, 57.8125  , 51.5625  , 56.640625, 55.078125, 51.953125,\n",
       "       56.640625, 58.984375, 51.171875, 57.421875, 53.515625, 53.125   ,\n",
       "       53.90625 , 53.515625, 50.390625, 50.      , 56.640625, 56.25    ,\n",
       "       54.296875, 56.25    , 51.5625  , 51.953125, 56.25    , 48.4375  ,\n",
       "       58.984375, 53.90625 , 52.734375, 52.34375 , 53.90625 , 50.78125 ,\n",
       "       56.25    ])"
      ]
     },
     "execution_count": 38,
     "metadata": {},
     "output_type": "execute_result"
    }
   ],
   "source": [
    "np.array(uniformity_per_puf) # Uniformity per PUF with respect to the zero (0) bits vs. total bits"
   ]
  },
  {
   "cell_type": "code",
   "execution_count": 39,
   "id": "1ac1ec44",
   "metadata": {},
   "outputs": [
    {
     "data": {
      "text/plain": [
       "53.84148316062176"
      ]
     },
     "execution_count": 39,
     "metadata": {},
     "output_type": "execute_result"
    }
   ],
   "source": [
    "np.mean(np.array(uniformity_per_puf)) # Uniformity mean %"
   ]
  },
  {
   "cell_type": "code",
   "execution_count": 40,
   "id": "9d516a2c",
   "metadata": {},
   "outputs": [
    {
     "data": {
      "text/plain": [
       "53.90625"
      ]
     },
     "execution_count": 40,
     "metadata": {},
     "output_type": "execute_result"
    }
   ],
   "source": [
    "np.median(np.array(uniformity_per_puf)) # Uniformity median %"
   ]
  },
  {
   "cell_type": "code",
   "execution_count": 41,
   "id": "0c94a02a",
   "metadata": {},
   "outputs": [
    {
     "data": {
      "text/plain": [
       "3.1690515478293086"
      ]
     },
     "execution_count": 41,
     "metadata": {},
     "output_type": "execute_result"
    }
   ],
   "source": [
    "np.std(np.array(uniformity_per_puf)) # Uniformity Standard Div. %"
   ]
  },
  {
   "cell_type": "markdown",
   "id": "9ddf68b4",
   "metadata": {},
   "source": [
    "- 50% is the ideal uniformity, our PUFs exibit good uniformity values with respect to the ideal (53.84%)"
   ]
  },
  {
   "cell_type": "markdown",
   "id": "b4522499",
   "metadata": {},
   "source": [
    "- If we were responsible for selecting a PUF based on uniformity, we would choose row pair because it is closer to the ideal 50% uniformity"
   ]
  }
 ],
 "metadata": {
  "kernelspec": {
   "display_name": "Python 3 (ipykernel)",
   "language": "python",
   "name": "python3"
  },
  "language_info": {
   "codemirror_mode": {
    "name": "ipython",
    "version": 3
   },
   "file_extension": ".py",
   "mimetype": "text/x-python",
   "name": "python",
   "nbconvert_exporter": "python",
   "pygments_lexer": "ipython3",
   "version": "3.8.12"
  },
  "vscode": {
   "interpreter": {
    "hash": "31f2aee4e71d21fbe5cf8b01ff0e069b9275f58929596ceb00d14d90e3e16cd6"
   }
  }
 },
 "nbformat": 4,
 "nbformat_minor": 5
}
