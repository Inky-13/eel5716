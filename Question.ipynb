{
 "cells": [
  {
   "cell_type": "code",
   "execution_count": 129,
   "id": "318b095c",
   "metadata": {},
   "outputs": [
    {
     "ename": "SyntaxError",
     "evalue": "invalid syntax (4068455617.py, line 1)",
     "output_type": "error",
     "traceback": [
      "\u001b[0;36m  Cell \u001b[0;32mIn[129], line 1\u001b[0;36m\u001b[0m\n\u001b[0;31m    python3 -m pip install matplot\u001b[0m\n\u001b[0m               ^\u001b[0m\n\u001b[0;31mSyntaxError\u001b[0m\u001b[0;31m:\u001b[0m invalid syntax\n"
     ]
    }
   ],
   "source": [
    "python3 -m pip install matplot"
   ]
  },
  {
   "cell_type": "code",
   "execution_count": 130,
   "id": "06b0f715",
   "metadata": {},
   "outputs": [],
   "source": [
    "import numpy as np\n",
    "import pandas as pd\n",
    "import matplotlib.pyplot as plt"
   ]
  },
  {
   "cell_type": "markdown",
   "id": "a15ca37c",
   "metadata": {},
   "source": [
    "## Problem 3\n",
    "### 1."
   ]
  },
  {
   "cell_type": "code",
   "execution_count": 131,
   "id": "b5a37272",
   "metadata": {},
   "outputs": [],
   "source": [
    "df = pd.read_csv('./fullFreqData/fpga1.csv', header=None)"
   ]
  },
  {
   "cell_type": "code",
   "execution_count": 132,
   "id": "7a70a6bd",
   "metadata": {},
   "outputs": [
    {
     "data": {
      "text/plain": [
       "(512, 100)"
      ]
     },
     "execution_count": 132,
     "metadata": {},
     "output_type": "execute_result"
    }
   ],
   "source": [
    "df.shape"
   ]
  },
  {
   "cell_type": "code",
   "execution_count": 133,
   "id": "7244b092",
   "metadata": {},
   "outputs": [],
   "source": [
    "df_t = df.T"
   ]
  },
  {
   "cell_type": "markdown",
   "id": "a1a5af01",
   "metadata": {},
   "source": [
    "### 2."
   ]
  },
  {
   "cell_type": "code",
   "execution_count": 134,
   "id": "5a7485eb",
   "metadata": {},
   "outputs": [],
   "source": [
    "means = df_t.describe().T[\"mean\"]"
   ]
  },
  {
   "cell_type": "code",
   "execution_count": 135,
   "id": "351903a1",
   "metadata": {},
   "outputs": [],
   "source": [
    "means_np = np.array(means)"
   ]
  },
  {
   "cell_type": "code",
   "execution_count": 136,
   "id": "4b975245",
   "metadata": {},
   "outputs": [],
   "source": [
    "means_np_reshaped = np.flip(means_np.reshape(32, 16), axis=0)"
   ]
  },
  {
   "cell_type": "code",
   "execution_count": 137,
   "id": "17e5bb14",
   "metadata": {},
   "outputs": [
    {
     "data": {
      "text/plain": [
       "(32, 16)"
      ]
     },
     "execution_count": 137,
     "metadata": {},
     "output_type": "execute_result"
    }
   ],
   "source": [
    "means_np_reshaped.shape"
   ]
  },
  {
   "cell_type": "markdown",
   "id": "96cd427e",
   "metadata": {},
   "source": [
    "### 3."
   ]
  },
  {
   "cell_type": "code",
   "execution_count": 143,
   "id": "c728ef7b",
   "metadata": {},
   "outputs": [
    {
     "data": {
      "image/png": "[encoded data removed]",
      "text/plain": [
       "<Figure size 640x480 with 1 Axes>"
      ]
     },
     "metadata": {},
     "output_type": "display_data"
    }
   ],
   "source": [
    "a = np.random.random((32, 16))\n",
    "plt.imshow(means_np_reshaped, interpolation='nearest')\n",
    "plt.show()"
   ]
  },
  {
   "cell_type": "markdown",
   "id": "8a787870",
   "metadata": {},
   "source": [
    "### 4.\n",
    "The heatmap below show a visual representation of the FPGA die and of which PUF freqencies are higher/low. The top center of the FPGA had the higher measured PUF clock frequencies. This is probably due to the less interconnect delays in that area of the chip and allow the RO to achieve a higher frequency "
   ]
  },
  {
   "cell_type": "markdown",
   "id": "990de1f0",
   "metadata": {},
   "source": [
    "## Problem 4\n",
    "### 1."
   ]
  },
  {
   "cell_type": "code",
   "execution_count": 144,
   "id": "402a21ec",
   "metadata": {},
   "outputs": [
    {
     "data": {
      "text/plain": [
       "<function numpy.zeros>"
      ]
     },
     "execution_count": 144,
     "metadata": {},
     "output_type": "execute_result"
    }
   ],
   "source": [
    "np.zeros"
   ]
  },
  {
   "cell_type": "code",
   "execution_count": 142,
   "id": "b354e712",
   "metadata": {
    "scrolled": false
   },
   "outputs": [],
   "source": [
    "array_of_pufs = []\n",
    "for i in range(193):\n",
    "    puf = np.zeros(256)\n",
    "    df = pd.read_csv(f'./fullFreqData/fpga{i+1}.csv', header=None)\n",
    "    df_t = df.T\n",
    "    means = df_t.describe().T[\"mean\"]\n",
    "    means_np = np.array(means)\n",
    "    means_np_reshaped = means_np.reshape(256, 2)\n",
    "    for j in range(256):\n",
    "        if means_np_reshaped[j, 0] >= means_np_reshaped[j, 1]:\n",
    "            puf[j] = True\n",
    "            # puf[j] = 1\n",
    "        else:\n",
    "            # puf[j] = 0\n",
    "            puf[j] = False\n",
    "        \n",
    "    array_of_pufs.append(puf)\n",
    "    # print(np.array(array_of_pufs)[i])"
   ]
  },
  {
   "cell_type": "code",
   "execution_count": 145,
   "id": "f24a4d38",
   "metadata": {},
   "outputs": [],
   "source": [
    "from array import array \n",
    "\n",
    "# 4.2 !!RETURN\n",
    "# np_array_of_pufs = np.array(array_of_pufs)\n",
    "fpga_puf_1 = array_of_pufs[0].astype(int)\n",
    "# print(fpga_puf_1)\n",
    "# hex_val = np.packbits(fpga_puf_1, None, 'big',)\n",
    "# hex_val"
   ]
  },
  {
   "cell_type": "code",
   "execution_count": 146,
   "id": "cf5d5a83",
   "metadata": {},
   "outputs": [],
   "source": [
    "# Number 4.3\n",
    "unique_array_of_pufs = []\n",
    "hamming = []\n",
    "num_loops = 192 #Will stil loop through all 193 cause k=i+1\n",
    "for i in range(num_loops):\n",
    "    uniq_puf = np.zeros(256)\n",
    "    puf1 = array_of_pufs[i].astype(bool) \n",
    "    k = i+1 \n",
    "    while k <= num_loops:\n",
    "        puf2 = array_of_pufs[k].astype(bool) \n",
    "        for j in range(256):\n",
    "            uniq_puf[j] = puf1[j] ^ puf2[j]\n",
    "            # print(puf1)\n",
    "            # print(puf2)\n",
    "        # print(uniq_puf)\n",
    "        hamming = np.sum(uniq_puf, 0)\n",
    "        # print(hamming)\n",
    "        k+=1\n",
    "    unique_array_of_pufs.append(hamming)"
   ]
  },
  {
   "cell_type": "code",
   "execution_count": 120,
   "id": "75c7789c",
   "metadata": {},
   "outputs": [
    {
     "name": "stdout",
     "output_type": "stream",
     "text": [
      "117.60416666666667\n",
      "118.0\n",
      "7.591770718277054\n",
      "45.93912760416667\n"
     ]
    }
   ],
   "source": [
    "# Number 4.3\n",
    "# hamming_dist = np.sum(unique_array_of_pufs, 1)\n",
    "hamming_mean = (np.sum(unique_array_of_pufs, None)/np.size(unique_array_of_pufs))\n",
    "print(hamming_mean)\n",
    "print(np.median(unique_array_of_pufs, None))\n",
    "print(np.std(unique_array_of_pufs, None))\n",
    "# Number 4.4\n",
    "print((hamming_mean/256) *100)"
   ]
  },
  {
   "cell_type": "code",
   "execution_count": null,
   "id": "211c1293",
   "metadata": {},
   "outputs": [],
   "source": []
  }
 ],
 "metadata": {
  "kernelspec": {
   "display_name": "Python 3.9.6 64-bit",
   "language": "python",
   "name": "python3"
  },
  "language_info": {
   "codemirror_mode": {
    "name": "ipython",
    "version": 3
   },
   "file_extension": ".py",
   "mimetype": "text/x-python",
   "name": "python",
   "nbconvert_exporter": "python",
   "pygments_lexer": "ipython3",
   "version": "3.9.6"
  },
  "vscode": {
   "interpreter": {
    "hash": "31f2aee4e71d21fbe5cf8b01ff0e069b9275f58929596ceb00d14d90e3e16cd6"
   }
  }
 },
 "nbformat": 4,
 "nbformat_minor": 5
}
